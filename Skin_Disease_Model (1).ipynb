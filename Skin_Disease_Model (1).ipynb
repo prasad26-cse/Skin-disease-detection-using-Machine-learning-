{
  "cells": [
    {
      "cell_type": "code",
      "execution_count": null,
      "metadata": {
        "id": "NGFUBKDJ5Ry_"
      },
      "outputs": [],
      "source": [
        "import pandas as pd\n",
        "import tensorflow\n",
        "import numpy as np\n",
        "from keras.models import Sequential\n",
        "from keras import optimizers\n",
        "from keras.layers import Dense, Conv2D, Dropout, Flatten, MaxPooling2D\n",
        "from keras.applications import MobileNetV2"
      ]
    },
    {
      "cell_type": "code",
      "execution_count": null,
      "metadata": {
        "colab": {
          "base_uri": "https://localhost:8080/"
        },
        "id": "8D5lgs6V51YB",
        "outputId": "668bc931-0b6c-47be-84ee-030164e5c67c"
      },
      "outputs": [
        {
          "output_type": "stream",
          "name": "stdout",
          "text": [
            "Drive already mounted at /content/drive; to attempt to forcibly remount, call drive.mount(\"/content/drive\", force_remount=True).\n"
          ]
        }
      ],
      "source": [
        "from google.colab import drive\n",
        "drive.mount(\"/content/drive\")"
      ]
    },
    {
      "cell_type": "code",
      "execution_count": null,
      "metadata": {
        "id": "zM08MrIl6CVo",
        "colab": {
          "base_uri": "https://localhost:8080/"
        },
        "outputId": "fc5fa845-1a50-4547-fcf1-3929ea110611"
      },
      "outputs": [
        {
          "output_type": "stream",
          "name": "stdout",
          "text": [
            "Downloading data from https://storage.googleapis.com/tensorflow/keras-applications/mobilenet_v2/mobilenet_v2_weights_tf_dim_ordering_tf_kernels_1.0_224_no_top.h5\n",
            "9406464/9406464 [==============================] - 0s 0us/step\n"
          ]
        }
      ],
      "source": [
        "from tensorflow.keras.applications import MobileNetV2\n",
        "\n",
        "# Model definition\n",
        "base_model = MobileNetV2(include_top=False, weights=\"imagenet\", input_shape=(224, 224, 3))\n"
      ]
    },
    {
      "cell_type": "code",
      "execution_count": null,
      "metadata": {
        "id": "w_yAgnPw6K_4"
      },
      "outputs": [],
      "source": [
        "#neural network model using Keras\n",
        "from tensorflow.keras.models import Sequential\n",
        "from tensorflow.keras.layers import Conv2D, MaxPooling2D, Dropout, Flatten, Dense\n",
        " # Define the model\n",
        "model = Sequential()\n",
        "model.add(base_model)\n",
        "model.add(Conv2D(64, (3, 3), activation='relu'))  # Convolutional layer\n",
        "model.add(MaxPooling2D(pool_size=(2, 2)))  # Max pooling layer\n",
        "model.add(Dropout(0.4))  # Dropout layer\n",
        "model.add(Flatten())  # Flatten layer\n",
        "model.add(Dense(128, activation='relu'))  # Dense (fully connected) layer\n",
        "model.add(Dropout(0.4))  # Another dropout layer\n",
        "model.add(Dense(7, activation='sigmoid'))  # Output layer with sigmoid activation for multi-label classification"
      ]
    },
    {
      "cell_type": "code",
      "execution_count": null,
      "metadata": {
        "id": "eVmDcXTa6YQA"
      },
      "outputs": [],
      "source": [
        "#to read a CSV file and extract certain columns\n",
        "import pandas as pd\n",
        "\n",
        "# Data preprocessing\n",
        "data = pd.read_csv(\"/content/drive/MyDrive/Mini_project24/HAM10000_metadata.csv\")\n",
        "data['image_full_name'] = data['image_id'] + '.jpg'\n",
        "X = data[['image_full_name', 'dx', 'lesion_id']]\n"
      ]
    },
    {
      "cell_type": "code",
      "execution_count": null,
      "metadata": {
        "colab": {
          "base_uri": "https://localhost:8080/",
          "height": 206
        },
        "id": "NlMPZ3Cc6rbK",
        "outputId": "d64d5e79-6e75-422e-c395-a34f0a61a032"
      },
      "outputs": [
        {
          "output_type": "execute_result",
          "data": {
            "text/plain": [
              "       image_full_name    dx    lesion_id\n",
              "4088  ISIC_0026317.jpg    nv  HAM_0004918\n",
              "5709  ISIC_0028320.jpg    nv  HAM_0005577\n",
              "7923  ISIC_0033441.jpg    nv  HAM_0005601\n",
              "2424  ISIC_0025612.jpg  vasc  HAM_0002177\n",
              "7080  ISIC_0032242.jpg    nv  HAM_0003951"
            ],
            "text/html": [
              "\n",
              "  <div id=\"df-369e9045-f220-4889-9bed-f1b8b7063b20\" class=\"colab-df-container\">\n",
              "    <div>\n",
              "<style scoped>\n",
              "    .dataframe tbody tr th:only-of-type {\n",
              "        vertical-align: middle;\n",
              "    }\n",
              "\n",
              "    .dataframe tbody tr th {\n",
              "        vertical-align: top;\n",
              "    }\n",
              "\n",
              "    .dataframe thead th {\n",
              "        text-align: right;\n",
              "    }\n",
              "</style>\n",
              "<table border=\"1\" class=\"dataframe\">\n",
              "  <thead>\n",
              "    <tr style=\"text-align: right;\">\n",
              "      <th></th>\n",
              "      <th>image_full_name</th>\n",
              "      <th>dx</th>\n",
              "      <th>lesion_id</th>\n",
              "    </tr>\n",
              "  </thead>\n",
              "  <tbody>\n",
              "    <tr>\n",
              "      <th>4088</th>\n",
              "      <td>ISIC_0026317.jpg</td>\n",
              "      <td>nv</td>\n",
              "      <td>HAM_0004918</td>\n",
              "    </tr>\n",
              "    <tr>\n",
              "      <th>5709</th>\n",
              "      <td>ISIC_0028320.jpg</td>\n",
              "      <td>nv</td>\n",
              "      <td>HAM_0005577</td>\n",
              "    </tr>\n",
              "    <tr>\n",
              "      <th>7923</th>\n",
              "      <td>ISIC_0033441.jpg</td>\n",
              "      <td>nv</td>\n",
              "      <td>HAM_0005601</td>\n",
              "    </tr>\n",
              "    <tr>\n",
              "      <th>2424</th>\n",
              "      <td>ISIC_0025612.jpg</td>\n",
              "      <td>vasc</td>\n",
              "      <td>HAM_0002177</td>\n",
              "    </tr>\n",
              "    <tr>\n",
              "      <th>7080</th>\n",
              "      <td>ISIC_0032242.jpg</td>\n",
              "      <td>nv</td>\n",
              "      <td>HAM_0003951</td>\n",
              "    </tr>\n",
              "  </tbody>\n",
              "</table>\n",
              "</div>\n",
              "    <div class=\"colab-df-buttons\">\n",
              "\n",
              "  <div class=\"colab-df-container\">\n",
              "    <button class=\"colab-df-convert\" onclick=\"convertToInteractive('df-369e9045-f220-4889-9bed-f1b8b7063b20')\"\n",
              "            title=\"Convert this dataframe to an interactive table.\"\n",
              "            style=\"display:none;\">\n",
              "\n",
              "  <svg xmlns=\"http://www.w3.org/2000/svg\" height=\"24px\" viewBox=\"0 -960 960 960\">\n",
              "    <path d=\"M120-120v-720h720v720H120Zm60-500h600v-160H180v160Zm220 220h160v-160H400v160Zm0 220h160v-160H400v160ZM180-400h160v-160H180v160Zm440 0h160v-160H620v160ZM180-180h160v-160H180v160Zm440 0h160v-160H620v160Z\"/>\n",
              "  </svg>\n",
              "    </button>\n",
              "\n",
              "  <style>\n",
              "    .colab-df-container {\n",
              "      display:flex;\n",
              "      gap: 12px;\n",
              "    }\n",
              "\n",
              "    .colab-df-convert {\n",
              "      background-color: #E8F0FE;\n",
              "      border: none;\n",
              "      border-radius: 50%;\n",
              "      cursor: pointer;\n",
              "      display: none;\n",
              "      fill: #1967D2;\n",
              "      height: 32px;\n",
              "      padding: 0 0 0 0;\n",
              "      width: 32px;\n",
              "    }\n",
              "\n",
              "    .colab-df-convert:hover {\n",
              "      background-color: #E2EBFA;\n",
              "      box-shadow: 0px 1px 2px rgba(60, 64, 67, 0.3), 0px 1px 3px 1px rgba(60, 64, 67, 0.15);\n",
              "      fill: #174EA6;\n",
              "    }\n",
              "\n",
              "    .colab-df-buttons div {\n",
              "      margin-bottom: 4px;\n",
              "    }\n",
              "\n",
              "    [theme=dark] .colab-df-convert {\n",
              "      background-color: #3B4455;\n",
              "      fill: #D2E3FC;\n",
              "    }\n",
              "\n",
              "    [theme=dark] .colab-df-convert:hover {\n",
              "      background-color: #434B5C;\n",
              "      box-shadow: 0px 1px 3px 1px rgba(0, 0, 0, 0.15);\n",
              "      filter: drop-shadow(0px 1px 2px rgba(0, 0, 0, 0.3));\n",
              "      fill: #FFFFFF;\n",
              "    }\n",
              "  </style>\n",
              "\n",
              "    <script>\n",
              "      const buttonEl =\n",
              "        document.querySelector('#df-369e9045-f220-4889-9bed-f1b8b7063b20 button.colab-df-convert');\n",
              "      buttonEl.style.display =\n",
              "        google.colab.kernel.accessAllowed ? 'block' : 'none';\n",
              "\n",
              "      async function convertToInteractive(key) {\n",
              "        const element = document.querySelector('#df-369e9045-f220-4889-9bed-f1b8b7063b20');\n",
              "        const dataTable =\n",
              "          await google.colab.kernel.invokeFunction('convertToInteractive',\n",
              "                                                    [key], {});\n",
              "        if (!dataTable) return;\n",
              "\n",
              "        const docLinkHtml = 'Like what you see? Visit the ' +\n",
              "          '<a target=\"_blank\" href=https://colab.research.google.com/notebooks/data_table.ipynb>data table notebook</a>'\n",
              "          + ' to learn more about interactive tables.';\n",
              "        element.innerHTML = '';\n",
              "        dataTable['output_type'] = 'display_data';\n",
              "        await google.colab.output.renderOutput(dataTable, element);\n",
              "        const docLink = document.createElement('div');\n",
              "        docLink.innerHTML = docLinkHtml;\n",
              "        element.appendChild(docLink);\n",
              "      }\n",
              "    </script>\n",
              "  </div>\n",
              "\n",
              "\n",
              "<div id=\"df-5579478c-ffbb-44f5-a28d-24bdce03f874\">\n",
              "  <button class=\"colab-df-quickchart\" onclick=\"quickchart('df-5579478c-ffbb-44f5-a28d-24bdce03f874')\"\n",
              "            title=\"Suggest charts\"\n",
              "            style=\"display:none;\">\n",
              "\n",
              "<svg xmlns=\"http://www.w3.org/2000/svg\" height=\"24px\"viewBox=\"0 0 24 24\"\n",
              "     width=\"24px\">\n",
              "    <g>\n",
              "        <path d=\"M19 3H5c-1.1 0-2 .9-2 2v14c0 1.1.9 2 2 2h14c1.1 0 2-.9 2-2V5c0-1.1-.9-2-2-2zM9 17H7v-7h2v7zm4 0h-2V7h2v10zm4 0h-2v-4h2v4z\"/>\n",
              "    </g>\n",
              "</svg>\n",
              "  </button>\n",
              "\n",
              "<style>\n",
              "  .colab-df-quickchart {\n",
              "      --bg-color: #E8F0FE;\n",
              "      --fill-color: #1967D2;\n",
              "      --hover-bg-color: #E2EBFA;\n",
              "      --hover-fill-color: #174EA6;\n",
              "      --disabled-fill-color: #AAA;\n",
              "      --disabled-bg-color: #DDD;\n",
              "  }\n",
              "\n",
              "  [theme=dark] .colab-df-quickchart {\n",
              "      --bg-color: #3B4455;\n",
              "      --fill-color: #D2E3FC;\n",
              "      --hover-bg-color: #434B5C;\n",
              "      --hover-fill-color: #FFFFFF;\n",
              "      --disabled-bg-color: #3B4455;\n",
              "      --disabled-fill-color: #666;\n",
              "  }\n",
              "\n",
              "  .colab-df-quickchart {\n",
              "    background-color: var(--bg-color);\n",
              "    border: none;\n",
              "    border-radius: 50%;\n",
              "    cursor: pointer;\n",
              "    display: none;\n",
              "    fill: var(--fill-color);\n",
              "    height: 32px;\n",
              "    padding: 0;\n",
              "    width: 32px;\n",
              "  }\n",
              "\n",
              "  .colab-df-quickchart:hover {\n",
              "    background-color: var(--hover-bg-color);\n",
              "    box-shadow: 0 1px 2px rgba(60, 64, 67, 0.3), 0 1px 3px 1px rgba(60, 64, 67, 0.15);\n",
              "    fill: var(--button-hover-fill-color);\n",
              "  }\n",
              "\n",
              "  .colab-df-quickchart-complete:disabled,\n",
              "  .colab-df-quickchart-complete:disabled:hover {\n",
              "    background-color: var(--disabled-bg-color);\n",
              "    fill: var(--disabled-fill-color);\n",
              "    box-shadow: none;\n",
              "  }\n",
              "\n",
              "  .colab-df-spinner {\n",
              "    border: 2px solid var(--fill-color);\n",
              "    border-color: transparent;\n",
              "    border-bottom-color: var(--fill-color);\n",
              "    animation:\n",
              "      spin 1s steps(1) infinite;\n",
              "  }\n",
              "\n",
              "  @keyframes spin {\n",
              "    0% {\n",
              "      border-color: transparent;\n",
              "      border-bottom-color: var(--fill-color);\n",
              "      border-left-color: var(--fill-color);\n",
              "    }\n",
              "    20% {\n",
              "      border-color: transparent;\n",
              "      border-left-color: var(--fill-color);\n",
              "      border-top-color: var(--fill-color);\n",
              "    }\n",
              "    30% {\n",
              "      border-color: transparent;\n",
              "      border-left-color: var(--fill-color);\n",
              "      border-top-color: var(--fill-color);\n",
              "      border-right-color: var(--fill-color);\n",
              "    }\n",
              "    40% {\n",
              "      border-color: transparent;\n",
              "      border-right-color: var(--fill-color);\n",
              "      border-top-color: var(--fill-color);\n",
              "    }\n",
              "    60% {\n",
              "      border-color: transparent;\n",
              "      border-right-color: var(--fill-color);\n",
              "    }\n",
              "    80% {\n",
              "      border-color: transparent;\n",
              "      border-right-color: var(--fill-color);\n",
              "      border-bottom-color: var(--fill-color);\n",
              "    }\n",
              "    90% {\n",
              "      border-color: transparent;\n",
              "      border-bottom-color: var(--fill-color);\n",
              "    }\n",
              "  }\n",
              "</style>\n",
              "\n",
              "  <script>\n",
              "    async function quickchart(key) {\n",
              "      const quickchartButtonEl =\n",
              "        document.querySelector('#' + key + ' button');\n",
              "      quickchartButtonEl.disabled = true;  // To prevent multiple clicks.\n",
              "      quickchartButtonEl.classList.add('colab-df-spinner');\n",
              "      try {\n",
              "        const charts = await google.colab.kernel.invokeFunction(\n",
              "            'suggestCharts', [key], {});\n",
              "      } catch (error) {\n",
              "        console.error('Error during call to suggestCharts:', error);\n",
              "      }\n",
              "      quickchartButtonEl.classList.remove('colab-df-spinner');\n",
              "      quickchartButtonEl.classList.add('colab-df-quickchart-complete');\n",
              "    }\n",
              "    (() => {\n",
              "      let quickchartButtonEl =\n",
              "        document.querySelector('#df-5579478c-ffbb-44f5-a28d-24bdce03f874 button');\n",
              "      quickchartButtonEl.style.display =\n",
              "        google.colab.kernel.accessAllowed ? 'block' : 'none';\n",
              "    })();\n",
              "  </script>\n",
              "</div>\n",
              "\n",
              "    </div>\n",
              "  </div>\n"
            ],
            "application/vnd.google.colaboratory.intrinsic+json": {
              "type": "dataframe",
              "summary": "{\n  \"name\": \"X\",\n  \"rows\": 5,\n  \"fields\": [\n    {\n      \"column\": \"image_full_name\",\n      \"properties\": {\n        \"dtype\": \"string\",\n        \"num_unique_values\": 5,\n        \"samples\": [\n          \"ISIC_0028320.jpg\",\n          \"ISIC_0032242.jpg\",\n          \"ISIC_0033441.jpg\"\n        ],\n        \"semantic_type\": \"\",\n        \"description\": \"\"\n      }\n    },\n    {\n      \"column\": \"dx\",\n      \"properties\": {\n        \"dtype\": \"category\",\n        \"num_unique_values\": 2,\n        \"samples\": [\n          \"vasc\",\n          \"nv\"\n        ],\n        \"semantic_type\": \"\",\n        \"description\": \"\"\n      }\n    },\n    {\n      \"column\": \"lesion_id\",\n      \"properties\": {\n        \"dtype\": \"string\",\n        \"num_unique_values\": 5,\n        \"samples\": [\n          \"HAM_0005577\",\n          \"HAM_0003951\"\n        ],\n        \"semantic_type\": \"\",\n        \"description\": \"\"\n      }\n    }\n  ]\n}"
            }
          },
          "metadata": {},
          "execution_count": 6
        }
      ],
      "source": [
        "X.sample(5)"
      ]
    },
    {
      "cell_type": "code",
      "execution_count": null,
      "metadata": {
        "id": "2W1qaEPY6vwR"
      },
      "outputs": [],
      "source": [
        "# splitting the data into training, validation, and test sets using train_test_split from scikit-learn.\n",
        "\n",
        "#When you use pop() on X, it modifies X by removing the 'dx' column\n",
        "#and assigning it to Y, so subsequent operations on X will not include the 'dx' column.\n",
        "from sklearn.model_selection import train_test_split\n",
        "\n",
        "# Separate the target variable 'dx' from the features\n",
        "Y = X.pop('dx').to_frame()\n",
        "\n",
        "# Split the data into training and test sets\n",
        "X_train, X_test, Y_train, Y_test = train_test_split(X, Y, test_size=0.17, random_state=42)\n",
        "\n",
        "# Further split the training data into training and validation sets\n",
        "X_train, X_val, Y_train, Y_val = train_test_split(X_train, Y_train, test_size=0.17, random_state=42)\n"
      ]
    },
    {
      "cell_type": "code",
      "execution_count": null,
      "metadata": {
        "id": "0yWiui947ESZ"
      },
      "outputs": [],
      "source": [
        "#to combine features and labels for training, validation, and test datasets.\n",
        "train = pd.concat([X_train, Y_train], axis=1)\n",
        "val = pd.concat([X_val, Y_val], axis=1)\n",
        "test = pd.concat([X_test, Y_test], axis=1)\n"
      ]
    },
    {
      "cell_type": "code",
      "execution_count": null,
      "metadata": {
        "id": "qV326ARa7QYh"
      },
      "outputs": [],
      "source": [
        "#to encode the labels in the validation set (val['dx']),\n",
        "from sklearn.preprocessing import LabelEncoder\n",
        "\n",
        "encoder = LabelEncoder()\n",
        "encoder.fit(train['dx'])  # Assuming you want to fit the encoder on training data\n",
        "name_as_indexes_train = encoder.transform(train['dx'])  # Transforming training labels\n",
        "name_as_indexes_val = encoder.transform(val['dx'])  # Transforming validation labels\n",
        "train['label'] = name_as_indexes_train\n",
        "val['label'] = name_as_indexes_val\n"
      ]
    },
    {
      "cell_type": "code",
      "execution_count": null,
      "metadata": {
        "id": "Qs2n-9Mg7gzp"
      },
      "outputs": [],
      "source": [
        "# to fit the encoder on the training data and then use the same encoder to transform both training and test data to maintain consistency.\n",
        "from sklearn.preprocessing import LabelEncoder\n",
        "\n",
        "# Assuming you've already fitted the encoder on the training data\n",
        "name_as_indexes_test = encoder.transform(test['dx'])\n",
        "test['label'] = name_as_indexes_test\n"
      ]
    },
    {
      "cell_type": "code",
      "execution_count": null,
      "metadata": {
        "colab": {
          "base_uri": "https://localhost:8080/"
        },
        "id": "0jSk8EPP7uSp",
        "outputId": "3333495a-6c75-4b2e-d244-db18ca3436b7"
      },
      "outputs": [
        {
          "output_type": "stream",
          "name": "stdout",
          "text": [
            "Collecting keras-preprocessing\n",
            "  Downloading Keras_Preprocessing-1.1.2-py2.py3-none-any.whl (42 kB)\n",
            "\u001b[?25l     \u001b[90m━━━━━━━━━━━━━━━━━━━━━━━━━━━━━━━━━━━━━━━━\u001b[0m \u001b[32m0.0/42.6 kB\u001b[0m \u001b[31m?\u001b[0m eta \u001b[36m-:--:--\u001b[0m\r\u001b[2K     \u001b[90m━━━━━━━━━━━━━━━━━━━━━━━━━━━━━━━━━━━━━━━━\u001b[0m \u001b[32m42.6/42.6 kB\u001b[0m \u001b[31m1.8 MB/s\u001b[0m eta \u001b[36m0:00:00\u001b[0m\n",
            "\u001b[?25hRequirement already satisfied: numpy>=1.9.1 in /usr/local/lib/python3.10/dist-packages (from keras-preprocessing) (1.25.2)\n",
            "Requirement already satisfied: six>=1.9.0 in /usr/local/lib/python3.10/dist-packages (from keras-preprocessing) (1.16.0)\n",
            "Installing collected packages: keras-preprocessing\n",
            "Successfully installed keras-preprocessing-1.1.2\n"
          ]
        }
      ],
      "source": [
        "!pip install keras-preprocessing\n"
      ]
    },
    {
      "cell_type": "code",
      "execution_count": null,
      "metadata": {
        "id": "4MoW8Izc7wSo"
      },
      "outputs": [],
      "source": [
        "#ImageDataGenerator object for data augmentation in Keras.\n",
        "from keras_preprocessing.image import ImageDataGenerator\n",
        "\n",
        "train_generator = ImageDataGenerator(rescale=1./255,\n",
        "                                     rotation_range=10,\n",
        "                                     zoom_range=0.1,\n",
        "                                     width_shift_range=0.0,\n",
        "                                     height_shift_range=0.0)\n",
        "\n",
        "# For validation and test, only rescale the pixel values\n",
        "val_test_generator = ImageDataGenerator(rescale=1./255)\n"
      ]
    },
    {
      "cell_type": "code",
      "execution_count": null,
      "metadata": {
        "colab": {
          "base_uri": "https://localhost:8080/"
        },
        "id": "TdQ10TZN8Q5Z",
        "outputId": "e3d576a4-c084-450a-b398-0ec2376f3587"
      },
      "outputs": [
        {
          "output_type": "stream",
          "name": "stdout",
          "text": [
            "Found 3451 validated image filenames belonging to 7 classes.\n"
          ]
        }
      ],
      "source": [
        "import os\n",
        "\n",
        "# Remove rows with invalid image filenames\n",
        "valid_train = train[train['image_full_name'].apply(lambda x: os.path.exists(os.path.join(\"/content/drive/MyDrive/Dataset/HAM10000_images_part_1\", x)))]\n",
        "\n",
        "# Update train_data with the cleaned DataFrame\n",
        "train_data = train_generator.flow_from_dataframe(dataframe=valid_train,\n",
        "                                                 x_col=\"image_full_name\",\n",
        "                                                 y_col=\"dx\",\n",
        "                                                 batch_size=32,\n",
        "                                                 directory=\"/content/drive/MyDrive/Dataset/HAM10000_images_part_1\",\n",
        "                                                 shuffle=True,\n",
        "                                                 class_mode=\"categorical\",\n",
        "                                                 target_size=(224,224))\n"
      ]
    },
    {
      "cell_type": "code",
      "execution_count": null,
      "metadata": {
        "id": "OpO-AgHp9BMi"
      },
      "outputs": [],
      "source": [
        "test_generator = ImageDataGenerator(rescale=1./255,\n",
        "                                     rotation_range=10,\n",
        "                                     zoom_range=0.1,\n",
        "                                     width_shift_range=0.0,\n",
        "                                     height_shift_range=0.0)"
      ]
    },
    {
      "cell_type": "code",
      "execution_count": null,
      "metadata": {
        "colab": {
          "base_uri": "https://localhost:8080/"
        },
        "id": "Pz964Jv89KnZ",
        "outputId": "324ecaa2-f569-40af-d96f-144b472ac079"
      },
      "outputs": [
        {
          "output_type": "stream",
          "name": "stdout",
          "text": [
            "Found 836 validated image filenames belonging to 7 classes.\n"
          ]
        }
      ],
      "source": [
        "import os\n",
        "from keras_preprocessing.image import ImageDataGenerator\n",
        "\n",
        "# Remove rows with invalid image filenames\n",
        "valid_test = test[test['image_full_name'].apply(lambda x: os.path.exists(os.path.join(\"/content/drive/MyDrive/Dataset/HAM10000_images_part_1\", x)))]\n",
        "\n",
        "# Update test_data with the cleaned DataFrame\n",
        "test_data = test_generator.flow_from_dataframe(dataframe=valid_test,\n",
        "                                                x_col=\"image_full_name\",\n",
        "                                                y_col=\"dx\",\n",
        "                                                batch_size=1,\n",
        "                                                directory=\"/content/drive/MyDrive/Dataset/HAM10000_images_part_1\",\n",
        "                                                shuffle=False,\n",
        "                                                class_mode=\"categorical\",\n",
        "                                                target_size=(224,224))\n"
      ]
    },
    {
      "cell_type": "code",
      "execution_count": null,
      "metadata": {
        "colab": {
          "base_uri": "https://localhost:8080/"
        },
        "id": "q2ajfwZ19ZWQ",
        "outputId": "4d8a3024-78ca-4590-96f3-50be03a5e723"
      },
      "outputs": [
        {
          "output_type": "stream",
          "name": "stdout",
          "text": [
            "Found 712 validated image filenames belonging to 7 classes.\n"
          ]
        }
      ],
      "source": [
        "import os\n",
        "from keras_preprocessing.image import ImageDataGenerator\n",
        "\n",
        "# Remove rows with invalid image filenames\n",
        "valid_val = val[val['image_full_name'].apply(lambda x: os.path.exists(os.path.join(\"/content/drive/MyDrive/Dataset/HAM10000_images_part_1\", x)))]\n",
        "\n",
        "# Update val_data with the cleaned DataFrame\n",
        "val_data = test_generator.flow_from_dataframe(dataframe=valid_val,\n",
        "                                              x_col=\"image_full_name\",\n",
        "                                              y_col=\"dx\",\n",
        "                                              directory=\"/content/drive/MyDrive/Dataset/HAM10000_images_part_1\",\n",
        "                                              batch_size=64,\n",
        "                                              shuffle=False,\n",
        "                                              class_mode=\"categorical\",\n",
        "                                              target_size=(224,224))\n"
      ]
    },
    {
      "cell_type": "code",
      "execution_count": null,
      "metadata": {
        "id": "KtOZ3tXl9bwZ"
      },
      "outputs": [],
      "source": [
        "#ReduceLROnPlateau callback to adjust the learning rate during training is correct\n",
        "\n",
        "from keras.callbacks import ReduceLROnPlateau\n",
        "learning_control = ReduceLROnPlateau(monitor='val_acc',patience=3,verbose=1,factor=.5,min_lr=0.0001)"
      ]
    },
    {
      "cell_type": "code",
      "execution_count": null,
      "metadata": {
        "id": "l31V5UOF-Fs5"
      },
      "outputs": [],
      "source": [
        "from keras.optimizers import SGD\n",
        "\n",
        "sgd = SGD(learning_rate=0.01, clipvalue=0.5)\n",
        "model.compile(optimizer=sgd, loss=\"categorical_crossentropy\", metrics=[\"accuracy\"])\n"
      ]
    },
    {
      "cell_type": "code",
      "execution_count": null,
      "metadata": {
        "id": "Y9Ngbgvk_rA5"
      },
      "outputs": [],
      "source": [
        "from keras.models import Sequential\n",
        "from keras.layers import Dense, Conv2D, MaxPooling2D, Flatten\n",
        "\n",
        "# Define the model architecture\n",
        "model = Sequential()\n",
        "model.add(Conv2D(32, (3, 3), activation='relu', input_shape=(224, 224, 3)))\n",
        "model.add(MaxPooling2D((2, 2)))\n",
        "model.add(Conv2D(64, (3, 3), activation='relu'))\n",
        "model.add(MaxPooling2D((2, 2)))\n",
        "model.add(Conv2D(128, (3, 3), activation='relu'))\n",
        "model.add(MaxPooling2D((2, 2)))\n",
        "model.add(Flatten())\n",
        "model.add(Dense(128, activation='relu'))\n",
        "model.add(Dense(7, activation='softmax'))  # Assuming 7 classes for classification\n",
        "\n",
        "# Compile the model\n",
        "model.compile(optimizer='adam', loss='categorical_crossentropy', metrics=['accuracy'])\n"
      ]
    },
    {
      "cell_type": "code",
      "execution_count": null,
      "metadata": {
        "colab": {
          "base_uri": "https://localhost:8080/"
        },
        "id": "155tk5wI_7Wd",
        "outputId": "b5e55d22-e768-412f-e2ca-2c41f2886987"
      },
      "outputs": [
        {
          "output_type": "stream",
          "name": "stdout",
          "text": [
            "Epoch 1/10\n",
            "107/107 [==============================] - ETA: 0s - loss: 1.0672 - accuracy: 0.6786"
          ]
        },
        {
          "output_type": "stream",
          "name": "stderr",
          "text": [
            "WARNING:tensorflow:Learning rate reduction is conditioned on metric `val_acc` which is not available. Available metrics are: loss,accuracy,val_loss,val_accuracy,lr\n"
          ]
        },
        {
          "output_type": "stream",
          "name": "stdout",
          "text": [
            "\b\b\b\b\b\b\b\b\b\b\b\b\b\b\b\b\b\b\b\b\b\b\b\b\b\b\b\b\b\b\b\b\b\b\b\b\b\b\b\b\b\b\b\b\b\b\b\b\b\b\b\b\b\b\b\b\b\b\b\b\b\b\b\b\b\b\b\b\b\b\b\b\b\b\b\b\b\b\b\b\b\b\b\b\r107/107 [==============================] - 1128s 10s/step - loss: 1.0672 - accuracy: 0.6786 - val_loss: 0.8902 - val_accuracy: 0.6918 - lr: 0.0010\n",
            "Epoch 2/10\n",
            "107/107 [==============================] - ETA: 0s - loss: 0.8866 - accuracy: 0.6973"
          ]
        },
        {
          "output_type": "stream",
          "name": "stderr",
          "text": [
            "WARNING:tensorflow:Learning rate reduction is conditioned on metric `val_acc` which is not available. Available metrics are: loss,accuracy,val_loss,val_accuracy,lr\n"
          ]
        },
        {
          "output_type": "stream",
          "name": "stdout",
          "text": [
            "\b\b\b\b\b\b\b\b\b\b\b\b\b\b\b\b\b\b\b\b\b\b\b\b\b\b\b\b\b\b\b\b\b\b\b\b\b\b\b\b\b\b\b\b\b\b\b\b\b\b\b\b\b\b\b\b\b\b\b\b\b\b\b\b\b\b\b\b\b\b\b\b\b\b\b\b\b\b\b\b\b\b\b\b\r107/107 [==============================] - 90s 846ms/step - loss: 0.8866 - accuracy: 0.6973 - val_loss: 0.8422 - val_accuracy: 0.7060 - lr: 0.0010\n",
            "Epoch 3/10\n",
            "107/107 [==============================] - ETA: 0s - loss: 0.8386 - accuracy: 0.7037"
          ]
        },
        {
          "output_type": "stream",
          "name": "stderr",
          "text": [
            "WARNING:tensorflow:Learning rate reduction is conditioned on metric `val_acc` which is not available. Available metrics are: loss,accuracy,val_loss,val_accuracy,lr\n"
          ]
        },
        {
          "output_type": "stream",
          "name": "stdout",
          "text": [
            "\b\b\b\b\b\b\b\b\b\b\b\b\b\b\b\b\b\b\b\b\b\b\b\b\b\b\b\b\b\b\b\b\b\b\b\b\b\b\b\b\b\b\b\b\b\b\b\b\b\b\b\b\b\b\b\b\b\b\b\b\b\b\b\b\b\b\b\b\b\b\b\b\b\b\b\b\b\b\b\b\b\b\b\b\r107/107 [==============================] - 90s 838ms/step - loss: 0.8386 - accuracy: 0.7037 - val_loss: 0.8200 - val_accuracy: 0.6932 - lr: 0.0010\n",
            "Epoch 4/10\n",
            "107/107 [==============================] - ETA: 0s - loss: 0.8133 - accuracy: 0.7175"
          ]
        },
        {
          "output_type": "stream",
          "name": "stderr",
          "text": [
            "WARNING:tensorflow:Learning rate reduction is conditioned on metric `val_acc` which is not available. Available metrics are: loss,accuracy,val_loss,val_accuracy,lr\n"
          ]
        },
        {
          "output_type": "stream",
          "name": "stdout",
          "text": [
            "\b\b\b\b\b\b\b\b\b\b\b\b\b\b\b\b\b\b\b\b\b\b\b\b\b\b\b\b\b\b\b\b\b\b\b\b\b\b\b\b\b\b\b\b\b\b\b\b\b\b\b\b\b\b\b\b\b\b\b\b\b\b\b\b\b\b\b\b\b\b\b\b\b\b\b\b\b\b\b\b\b\b\b\b\r107/107 [==============================] - 96s 901ms/step - loss: 0.8133 - accuracy: 0.7175 - val_loss: 0.8184 - val_accuracy: 0.6974 - lr: 0.0010\n",
            "Epoch 5/10\n",
            "107/107 [==============================] - ETA: 0s - loss: 0.7626 - accuracy: 0.7262"
          ]
        },
        {
          "output_type": "stream",
          "name": "stderr",
          "text": [
            "WARNING:tensorflow:Learning rate reduction is conditioned on metric `val_acc` which is not available. Available metrics are: loss,accuracy,val_loss,val_accuracy,lr\n"
          ]
        },
        {
          "output_type": "stream",
          "name": "stdout",
          "text": [
            "\b\b\b\b\b\b\b\b\b\b\b\b\b\b\b\b\b\b\b\b\b\b\b\b\b\b\b\b\b\b\b\b\b\b\b\b\b\b\b\b\b\b\b\b\b\b\b\b\b\b\b\b\b\b\b\b\b\b\b\b\b\b\b\b\b\b\b\b\b\b\b\b\b\b\b\b\b\b\b\b\b\b\b\b\r107/107 [==============================] - 97s 910ms/step - loss: 0.7626 - accuracy: 0.7262 - val_loss: 0.7862 - val_accuracy: 0.7074 - lr: 0.0010\n",
            "Epoch 6/10\n",
            "107/107 [==============================] - ETA: 0s - loss: 0.7197 - accuracy: 0.7303"
          ]
        },
        {
          "output_type": "stream",
          "name": "stderr",
          "text": [
            "WARNING:tensorflow:Learning rate reduction is conditioned on metric `val_acc` which is not available. Available metrics are: loss,accuracy,val_loss,val_accuracy,lr\n"
          ]
        },
        {
          "output_type": "stream",
          "name": "stdout",
          "text": [
            "\b\b\b\b\b\b\b\b\b\b\b\b\b\b\b\b\b\b\b\b\b\b\b\b\b\b\b\b\b\b\b\b\b\b\b\b\b\b\b\b\b\b\b\b\b\b\b\b\b\b\b\b\b\b\b\b\b\b\b\b\b\b\b\b\b\b\b\b\b\b\b\b\b\b\b\b\b\b\b\b\b\b\b\b\r107/107 [==============================] - 89s 833ms/step - loss: 0.7197 - accuracy: 0.7303 - val_loss: 0.7853 - val_accuracy: 0.7060 - lr: 0.0010\n",
            "Epoch 7/10\n",
            "107/107 [==============================] - ETA: 0s - loss: 0.6894 - accuracy: 0.7473"
          ]
        },
        {
          "output_type": "stream",
          "name": "stderr",
          "text": [
            "WARNING:tensorflow:Learning rate reduction is conditioned on metric `val_acc` which is not available. Available metrics are: loss,accuracy,val_loss,val_accuracy,lr\n"
          ]
        },
        {
          "output_type": "stream",
          "name": "stdout",
          "text": [
            "\b\b\b\b\b\b\b\b\b\b\b\b\b\b\b\b\b\b\b\b\b\b\b\b\b\b\b\b\b\b\b\b\b\b\b\b\b\b\b\b\b\b\b\b\b\b\b\b\b\b\b\b\b\b\b\b\b\b\b\b\b\b\b\b\b\b\b\b\b\b\b\b\b\b\b\b\b\b\b\b\b\b\b\b\r107/107 [==============================] - 96s 898ms/step - loss: 0.6894 - accuracy: 0.7473 - val_loss: 0.7207 - val_accuracy: 0.7273 - lr: 0.0010\n",
            "Epoch 8/10\n",
            "107/107 [==============================] - ETA: 0s - loss: 0.7121 - accuracy: 0.7450"
          ]
        },
        {
          "output_type": "stream",
          "name": "stderr",
          "text": [
            "WARNING:tensorflow:Learning rate reduction is conditioned on metric `val_acc` which is not available. Available metrics are: loss,accuracy,val_loss,val_accuracy,lr\n"
          ]
        },
        {
          "output_type": "stream",
          "name": "stdout",
          "text": [
            "\b\b\b\b\b\b\b\b\b\b\b\b\b\b\b\b\b\b\b\b\b\b\b\b\b\b\b\b\b\b\b\b\b\b\b\b\b\b\b\b\b\b\b\b\b\b\b\b\b\b\b\b\b\b\b\b\b\b\b\b\b\b\b\b\b\b\b\b\b\b\b\b\b\b\b\b\b\b\b\b\b\b\b\b\r107/107 [==============================] - 90s 839ms/step - loss: 0.7121 - accuracy: 0.7450 - val_loss: 0.7009 - val_accuracy: 0.7429 - lr: 0.0010\n",
            "Epoch 9/10\n",
            "107/107 [==============================] - ETA: 0s - loss: 0.6279 - accuracy: 0.7675"
          ]
        },
        {
          "output_type": "stream",
          "name": "stderr",
          "text": [
            "WARNING:tensorflow:Learning rate reduction is conditioned on metric `val_acc` which is not available. Available metrics are: loss,accuracy,val_loss,val_accuracy,lr\n"
          ]
        },
        {
          "output_type": "stream",
          "name": "stdout",
          "text": [
            "\b\b\b\b\b\b\b\b\b\b\b\b\b\b\b\b\b\b\b\b\b\b\b\b\b\b\b\b\b\b\b\b\b\b\b\b\b\b\b\b\b\b\b\b\b\b\b\b\b\b\b\b\b\b\b\b\b\b\b\b\b\b\b\b\b\b\b\b\b\b\b\b\b\b\b\b\b\b\b\b\b\b\b\b\r107/107 [==============================] - 93s 868ms/step - loss: 0.6279 - accuracy: 0.7675 - val_loss: 0.8014 - val_accuracy: 0.7386 - lr: 0.0010\n",
            "Epoch 10/10\n",
            "107/107 [==============================] - ETA: 0s - loss: 0.6141 - accuracy: 0.7754"
          ]
        },
        {
          "output_type": "stream",
          "name": "stderr",
          "text": [
            "WARNING:tensorflow:Learning rate reduction is conditioned on metric `val_acc` which is not available. Available metrics are: loss,accuracy,val_loss,val_accuracy,lr\n"
          ]
        },
        {
          "output_type": "stream",
          "name": "stdout",
          "text": [
            "\b\b\b\b\b\b\b\b\b\b\b\b\b\b\b\b\b\b\b\b\b\b\b\b\b\b\b\b\b\b\b\b\b\b\b\b\b\b\b\b\b\b\b\b\b\b\b\b\b\b\b\b\b\b\b\b\b\b\b\b\b\b\b\b\b\b\b\b\b\b\b\b\b\b\b\b\b\b\b\b\b\b\b\b\r107/107 [==============================] - 92s 863ms/step - loss: 0.6141 - accuracy: 0.7754 - val_loss: 0.7136 - val_accuracy: 0.7472 - lr: 0.0010\n"
          ]
        }
      ],
      "source": [
        "history = model.fit(x=train_data,\n",
        "                    steps_per_epoch=train_data.samples // train_data.batch_size,\n",
        "                    validation_data=val_data,\n",
        "                    validation_steps=val_data.samples // val_data.batch_size,\n",
        "                    verbose=1,\n",
        "                    epochs=10,\n",
        "                    callbacks=[learning_control])\n"
      ]
    },
    {
      "cell_type": "code",
      "execution_count": null,
      "metadata": {
        "colab": {
          "base_uri": "https://localhost:8080/",
          "height": 472
        },
        "id": "RYMeTmWeFwmi",
        "outputId": "db595d6a-61d0-4782-dc8d-5d023421f831"
      },
      "outputs": [
        {
          "output_type": "display_data",
          "data": {
            "text/plain": [
              "<Figure size 640x480 with 1 Axes>"
            ],
            "image/png": "[encoded data removed]"
          },
          "metadata": {}
        }
      ],
      "source": [
        "import matplotlib.pyplot as plt\n",
        "\n",
        "\n",
        "# Plot the accuracy\n",
        "plt.plot(history.history['accuracy'])\n",
        "plt.plot(history.history['val_accuracy'])\n",
        "plt.title('Model Accuracy')\n",
        "plt.xlabel('Epoch')\n",
        "plt.ylabel('Accuracy')\n",
        "plt.legend(['Train', 'Validation'], loc=\"upper left\")\n",
        "plt.show()\n"
      ]
    },
    {
      "cell_type": "code",
      "execution_count": null,
      "metadata": {
        "colab": {
          "base_uri": "https://localhost:8080/",
          "height": 477
        },
        "id": "Ny_vnawXGLXz",
        "outputId": "92924178-2bf9-4cd3-a43f-0be8158aafef"
      },
      "outputs": [
        {
          "output_type": "display_data",
          "data": {
            "text/plain": [
              "<Figure size 640x480 with 1 Axes>"
            ],
            "image/png": "[encoded data removed]"
          },
          "metadata": {}
        }
      ],
      "source": [
        "#To plot the training loss and accuracy, as well as the validation loss and accuracy\n",
        "#N values are plotted to avoid cluttering the plot. Adjust N according to the number of epochs you have trained your model for.\n",
        "N = 10\n",
        "plt.style.use(\"ggplot\")\n",
        "plt.figure()\n",
        "plt.plot(np.arange(0, N), history.history['loss'][:N], label=\"train_loss\")\n",
        "plt.plot(np.arange(0, N), history.history['val_loss'][:N], label=\"val_loss\")\n",
        "plt.plot(np.arange(0, N), history.history['accuracy'][:N], label=\"train_acc\")  # Changed 'acc' to 'accuracy'\n",
        "plt.plot(np.arange(0, N), history.history['val_accuracy'][:N], label=\"val_acc\")  # Changed 'acc' to 'accuracy'\n",
        "\n",
        "plt.title(\"Training Loss and Accuracy\")\n",
        "plt.xlabel(\"Epoch #\")\n",
        "plt.ylabel(\"Loss/Accuracy\")\n",
        "plt.legend(loc=\"lower left\")\n",
        "plt.show()\n"
      ]
    },
    {
      "cell_type": "code",
      "execution_count": null,
      "metadata": {
        "colab": {
          "base_uri": "https://localhost:8080/"
        },
        "id": "GkrfIV33GcqD",
        "outputId": "a6695e6e-a745-465f-e062-385ac6264501"
      },
      "outputs": [
        {
          "output_type": "stream",
          "name": "stderr",
          "text": [
            "<ipython-input-23-d2fffe7c5fbf>:4: UserWarning: `Model.predict_generator` is deprecated and will be removed in a future version. Please use `Model.predict`, which supports generators.\n",
            "  predictions = model.predict_generator(test_data, steps=test_data.samples / test_data.batch_size, verbose=1)\n"
          ]
        },
        {
          "output_type": "stream",
          "name": "stdout",
          "text": [
            "836/836 [==============================] - 233s 278ms/step\n"
          ]
        }
      ],
      "source": [
        "#good practice to ensure that the data generator is reset before making predictions to start from the beginning of the dataset.\n",
        "\n",
        "test_data.reset()\n",
        "predictions = model.predict_generator(test_data, steps=test_data.samples / test_data.batch_size, verbose=1)\n",
        "y_pred = np.argmax(predictions, axis=1)\n"
      ]
    },
    {
      "cell_type": "code",
      "execution_count": null,
      "metadata": {
        "id": "levHs1SdLKgU",
        "colab": {
          "base_uri": "https://localhost:8080/"
        },
        "outputId": "faaa8aad-cfcc-4be5-ab37-e79ad3afed96"
      },
      "outputs": [
        {
          "output_type": "stream",
          "name": "stderr",
          "text": [
            "/usr/local/lib/python3.10/dist-packages/keras/src/engine/training.py:3103: UserWarning: You are saving your model as an HDF5 file via `model.save()`. This file format is considered legacy. We recommend using instead the native Keras format, e.g. `model.save('my_model.keras')`.\n",
            "  saving_api.save_model(\n"
          ]
        }
      ],
      "source": [
        "model.save('final_modelh.h5')\n"
      ]
    },
    {
      "cell_type": "code",
      "execution_count": null,
      "metadata": {
        "colab": {
          "base_uri": "https://localhost:8080/"
        },
        "id": "j_QkvOxNMYdk",
        "outputId": "6c363591-a080-4f8c-e5f8-63ebed13eb41"
      },
      "outputs": [
        {
          "output_type": "stream",
          "name": "stdout",
          "text": [
            "1/1 [==============================] - 0s 84ms/step\n",
            "Predicted class: Class BKL\n",
            "Predictions: [[9.9938847e-03 6.4643311e-05 7.1600735e-01 5.0034288e-07 7.9005934e-02\n",
            "  1.9492771e-01 3.4627302e-15]]\n"
          ]
        }
      ],
      "source": [
        "import cv2\n",
        "import numpy as np\n",
        "from keras.models import load_model\n",
        "\n",
        "# Load your trained model\n",
        "model = load_model('Skin_Disease.h5')\n",
        "\n",
        "# Define a mapping from class indices to class names\n",
        "# Example class names (modify according to your model's training)\n",
        "class_names = ['Class VASC', 'Class MEL', 'Class BKL', 'Class BCC', 'Class AKIEC', 'Class NV', 'Class DF']\n",
        "\n",
        "# Define a function to preprocess the image\n",
        "def preprocess_image(image):\n",
        "    # Resize the image to match the input size expected by the model (224x224 for MobileNetV2)\n",
        "    resized_image = cv2.resize(image, (224, 224))\n",
        "    # Normalize the pixel values to [0, 1] (common for deep learning models)\n",
        "    normalized_image = resized_image / 255.0\n",
        "    return normalized_image\n",
        "\n",
        "# Define a function to make predictions using an image path\n",
        "def predict_image(image_path, model):\n",
        "    # Load the image from the path\n",
        "    image = cv2.imread(image_path)\n",
        "    if image is None:\n",
        "        raise FileNotFoundError(f\"Image not found at: {image_path}\")\n",
        "\n",
        "    # Preprocess the image (resize, normalize, etc.)\n",
        "    processed_image = preprocess_image(image)\n",
        "\n",
        "    # Expand dimensions to match the model's expected input shape\n",
        "    processed_image = np.expand_dims(processed_image, axis=0)\n",
        "\n",
        "    # Make predictions\n",
        "    predictions = model.predict(processed_image)\n",
        "\n",
        "    # Get the predicted class index\n",
        "    predicted_class_index = np.argmax(predictions)\n",
        "\n",
        "    # Get the corresponding class name using the class mapping\n",
        "    predicted_class_name = class_names[predicted_class_index]\n",
        "\n",
        "    # Return the predicted class name and probabilities\n",
        "    return predicted_class_name, predictions\n",
        "\n",
        "# Example usage\n",
        "image_path = '/content/drive/MyDrive/Dataset/HAM10000_Images/ISIC_0024893.jpg'\n",
        "\n",
        "try:\n",
        "    predicted_class_name, predictions = predict_image(image_path, model)\n",
        "    print(\"Predicted class:\", predicted_class_name)  # Display the predicted class name\n",
        "    print(\"Predictions:\", predictions)  # Display raw probabilities for each class\n",
        "except FileNotFoundError as e:\n",
        "    print(\"Error:\", e)\n"
      ]
    }
  ],
  "metadata": {
    "accelerator": "GPU",
    "colab": {
      "gpuType": "T4",
      "provenance": []
    },
    "kernelspec": {
      "display_name": "Python 3",
      "name": "python3"
    },
    "language_info": {
      "name": "python"
    }
  },
  "nbformat": 4,
  "nbformat_minor": 0
}